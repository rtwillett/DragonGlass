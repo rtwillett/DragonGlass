{
 "cells": [
  {
   "cell_type": "code",
   "execution_count": 30,
   "id": "78d3fd39",
   "metadata": {},
   "outputs": [],
   "source": [
    "from dragonglass.vault_tools import CreateVault, MountVault\n",
    "from dragonglass.notes_tools import ObsidianNote, DeleteObsidianNote"
   ]
  },
  {
   "cell_type": "code",
   "execution_count": 2,
   "id": "01e95005",
   "metadata": {},
   "outputs": [],
   "source": [
    "vaultname = 'TestVault'"
   ]
  },
  {
   "cell_type": "code",
   "execution_count": null,
   "id": "b7737c3a",
   "metadata": {},
   "outputs": [],
   "source": []
  },
  {
   "cell_type": "markdown",
   "id": "eae54ec5",
   "metadata": {},
   "source": [
    "### Creating Vault"
   ]
  },
  {
   "cell_type": "code",
   "execution_count": 3,
   "id": "d052b2f8",
   "metadata": {},
   "outputs": [],
   "source": [
    "v = CreateVault()"
   ]
  },
  {
   "cell_type": "code",
   "execution_count": 4,
   "id": "d7bd849c",
   "metadata": {},
   "outputs": [],
   "source": [
    "# v = CreateVault('./MyVault')"
   ]
  },
  {
   "cell_type": "code",
   "execution_count": 5,
   "id": "d67ad71d",
   "metadata": {},
   "outputs": [
    {
     "data": {
      "text/plain": [
       "'/Users/ryanwillett/Vaults'"
      ]
     },
     "execution_count": 5,
     "metadata": {},
     "output_type": "execute_result"
    }
   ],
   "source": [
    "v.vault_dir"
   ]
  },
  {
   "cell_type": "code",
   "execution_count": 6,
   "id": "071fea03",
   "metadata": {},
   "outputs": [],
   "source": [
    "v.create_vault(vaultname)"
   ]
  },
  {
   "cell_type": "code",
   "execution_count": null,
   "id": "1589d423",
   "metadata": {},
   "outputs": [],
   "source": []
  },
  {
   "cell_type": "markdown",
   "id": "a12fa9b9",
   "metadata": {},
   "source": [
    "### Mounting a Vault"
   ]
  },
  {
   "cell_type": "code",
   "execution_count": 13,
   "id": "3598dad8",
   "metadata": {},
   "outputs": [
    {
     "data": {
      "text/plain": [
       "'/Users/ryanwillett/Vaults/TestVault'"
      ]
     },
     "execution_count": 13,
     "metadata": {},
     "output_type": "execute_result"
    }
   ],
   "source": [
    "vaultpath = v.vault_dir + f'/{vaultname}'\n",
    "vaultpath"
   ]
  },
  {
   "cell_type": "code",
   "execution_count": 17,
   "id": "75917184",
   "metadata": {},
   "outputs": [],
   "source": [
    "ov = MountVault(vault = vaultname, vault_path = v.vault_dir, )"
   ]
  },
  {
   "cell_type": "code",
   "execution_count": 18,
   "id": "588285b2",
   "metadata": {},
   "outputs": [
    {
     "data": {
      "text/plain": [
       "['My Notes']"
      ]
     },
     "execution_count": 18,
     "metadata": {},
     "output_type": "execute_result"
    }
   ],
   "source": [
    "ov.notes"
   ]
  },
  {
   "cell_type": "code",
   "execution_count": 19,
   "id": "571cc85a",
   "metadata": {},
   "outputs": [
    {
     "data": {
      "text/plain": [
       "'/Users/ryanwillett/Vaults/TestVault/'"
      ]
     },
     "execution_count": 19,
     "metadata": {},
     "output_type": "execute_result"
    }
   ],
   "source": [
    "ov.vault_path"
   ]
  },
  {
   "cell_type": "code",
   "execution_count": null,
   "id": "7c10cf92",
   "metadata": {},
   "outputs": [],
   "source": []
  },
  {
   "cell_type": "code",
   "execution_count": null,
   "id": "8b841c66",
   "metadata": {},
   "outputs": [],
   "source": []
  },
  {
   "cell_type": "code",
   "execution_count": 20,
   "id": "2a902805",
   "metadata": {},
   "outputs": [],
   "source": [
    "t = ObsidianNote('Lemon', ov.vault_path)"
   ]
  },
  {
   "cell_type": "code",
   "execution_count": 21,
   "id": "683e717e",
   "metadata": {},
   "outputs": [],
   "source": [
    "t.add_header('This is a section')"
   ]
  },
  {
   "cell_type": "code",
   "execution_count": 22,
   "id": "c385f42b",
   "metadata": {},
   "outputs": [],
   "source": [
    "t.add_text('This is a very important section')"
   ]
  },
  {
   "cell_type": "code",
   "execution_count": 23,
   "id": "b8da0c4f",
   "metadata": {},
   "outputs": [],
   "source": [
    "t.add_header('What does it taste like?')"
   ]
  },
  {
   "cell_type": "code",
   "execution_count": 24,
   "id": "2bfaaf5e",
   "metadata": {},
   "outputs": [],
   "source": [
    "t.add_text('Sour')"
   ]
  },
  {
   "cell_type": "code",
   "execution_count": 25,
   "id": "2b1edb80",
   "metadata": {},
   "outputs": [
    {
     "data": {
      "text/plain": [
       "['\\n## This is a section',\n",
       " 'This is a very important section',\n",
       " '\\n## What does it taste like?',\n",
       " 'Sour']"
      ]
     },
     "execution_count": 25,
     "metadata": {},
     "output_type": "execute_result"
    }
   ],
   "source": [
    "t.notes"
   ]
  },
  {
   "cell_type": "code",
   "execution_count": 26,
   "id": "a8030db7",
   "metadata": {},
   "outputs": [],
   "source": [
    "# t.compile_notes()"
   ]
  },
  {
   "cell_type": "code",
   "execution_count": 27,
   "id": "f533102f",
   "metadata": {},
   "outputs": [],
   "source": [
    "t.write_note()"
   ]
  },
  {
   "cell_type": "code",
   "execution_count": null,
   "id": "ff13f19d",
   "metadata": {},
   "outputs": [],
   "source": []
  },
  {
   "cell_type": "code",
   "execution_count": 31,
   "id": "5d301555",
   "metadata": {},
   "outputs": [],
   "source": [
    "tt = DeleteObsidianNote('Lemon', ov.vault_path)"
   ]
  },
  {
   "cell_type": "code",
   "execution_count": 32,
   "id": "921e32c9",
   "metadata": {},
   "outputs": [],
   "source": [
    "tt.delete_note()"
   ]
  },
  {
   "cell_type": "code",
   "execution_count": null,
   "id": "30487c24",
   "metadata": {},
   "outputs": [],
   "source": []
  }
 ],
 "metadata": {
  "kernelspec": {
   "display_name": "Python 3",
   "language": "python",
   "name": "python3"
  },
  "language_info": {
   "codemirror_mode": {
    "name": "ipython",
    "version": 3
   },
   "file_extension": ".py",
   "mimetype": "text/x-python",
   "name": "python",
   "nbconvert_exporter": "python",
   "pygments_lexer": "ipython3",
   "version": "3.7.3"
  }
 },
 "nbformat": 4,
 "nbformat_minor": 5
}
